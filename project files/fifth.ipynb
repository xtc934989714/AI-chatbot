{
 "cells": [
  {
   "cell_type": "code",
   "execution_count": 22,
   "metadata": {},
   "outputs": [
    {
     "name": "stderr",
     "output_type": "stream",
     "text": [
      "Getting uuid of QR code.\n",
      "Downloading QR code.\n",
      "Please scan the QR code to log in.\n",
      "Please press confirm on your phone.\n",
      "Loading the contact, this may take a little while.\n",
      "Login successfully as tc\n"
     ]
    },
    {
     "name": "stdout",
     "output_type": "stream",
     "text": [
      "hi\n",
      "I want to search the price of AAPL\n",
      "what can you do\n",
      "emmm\n",
      "what can you do\n",
      "GOOG\n",
      "price\n",
      "TSLA\n",
      "dsl\n",
      "AMZN\n",
      "GOOG price\n",
      "…\n",
      "hi\n",
      "....\n",
      "Hi\n",
      "What can you do?\n",
      "GOOG\n",
      "Price\n",
      "Thanks\n",
      "TSLA\n",
      "Volume\n",
      "I want to search the price of AAPL\n",
      "....\n",
      "Hi\n",
      "What can you do?\n",
      "GOOG\n",
      "Price\n",
      "TSLA\n",
      "Volume\n",
      "I want to search the price of AAPL\n",
      "Thanks\n"
     ]
    }
   ],
   "source": [
    "#A微信回复函数\n",
    "from wxpy import *\n",
    "\n",
    "bot = Bot()\n",
    "\n",
    "my_friend = bot.friends().search('xtc')[0]\n",
    "boring_group = bot.groups().search('test')[0]\n",
    "\n",
    "@bot.register([my_friend, Group], TEXT)\n",
    "def auto_reply(msg):\n",
    "    print(msg.text)\n",
    "    # 如果是群聊，但没有被 @，则不回复\n",
    "    if isinstance(msg.chat, Group) and not msg.is_at:\n",
    "        return '0'\n",
    "    else:\n",
    "        # 回复消息内容和类型\n",
    "        return respond(msg.text)"
   ]
  },
  {
   "cell_type": "code",
   "execution_count": 21,
   "metadata": {},
   "outputs": [
    {
     "data": {
      "text/plain": [
       "'AAPL'"
      ]
     },
     "execution_count": 21,
     "metadata": {},
     "output_type": "execute_result"
    }
   ],
   "source": [
    "#TEST\n",
    "find_company('AAPL')"
   ]
  },
  {
   "cell_type": "code",
   "execution_count": 17,
   "metadata": {},
   "outputs": [],
   "source": [
    "#B回复函数\n",
    "pending=None\n",
    "company=None\n",
    "\n",
    "def respond(message):\n",
    "    global pending\n",
    "    global company\n",
    "    response=None\n",
    "    intent=find_intent(message)\n",
    "    if pending=='pending_target':\n",
    "        if intent=='price_search':\n",
    "            response='the price of {} is {}'.format(company,find_price(company))\n",
    "            pending=None\n",
    "            company=None\n",
    "            return response\n",
    "        elif intent=='volume_search':\n",
    "            response='the volume of {} is {}'.format(company,find_volume(company))\n",
    "            pending=None\n",
    "            company=None\n",
    "            return response\n",
    "        else:\n",
    "            response='What imformation do you want to know, price or volume?'\n",
    "            return response\n",
    "    else:\n",
    "        company=find_company(message)\n",
    "        if company is not None:\n",
    "            if intent=='price_search':\n",
    "                response='the price of {} is {}'.format(company,find_price(company))\n",
    "                company=None\n",
    "                return response\n",
    "            elif intent=='volume_search':\n",
    "                response='the volume of {} is {}'.format(company,find_volume(company))\n",
    "                company=None\n",
    "                return response\n",
    "            else:\n",
    "                pending='pending_target'\n",
    "                response='What imformation do you want to know, price or volume?'\n",
    "                return response\n",
    "        else:\n",
    "            if intent=='greet':\n",
    "                response='Hi,can I help you?'\n",
    "                return response\n",
    "            elif intent=='thank':\n",
    "                response='you are welcome'\n",
    "                return response\n",
    "            elif intent=='ask_function':\n",
    "                response='I can help you search the price and volume of a stock,which stock do you want to know.Please tell me the stock code'\n",
    "                return response\n",
    "            else:\n",
    "                response='hello,I am a stock inquiry robot'\n",
    "                return response"
   ]
  },
  {
   "cell_type": "code",
   "execution_count": 16,
   "metadata": {},
   "outputs": [
    {
     "name": "stderr",
     "output_type": "stream",
     "text": [
      "D:\\softs\\anaconda\\lib\\site-packages\\rasa_nlu\\training_data\\training_data.py:191: UserWarning: Intent 'None' has only 1 training examples! Minimum is 2, training may fail.\n",
      "  self.MIN_EXAMPLES_PER_INTENT))\n",
      "D:\\softs\\anaconda\\lib\\site-packages\\rasa_nlu\\training_data\\training_data.py:199: UserWarning: Entity 'area' has only 1 training examples! minimum is 2, training may fail.\n",
      "  self.MIN_EXAMPLES_PER_ENTITY))\n"
     ]
    },
    {
     "name": "stdout",
     "output_type": "stream",
     "text": [
      "Fitting 2 folds for each of 6 candidates, totalling 12 fits\n"
     ]
    },
    {
     "name": "stderr",
     "output_type": "stream",
     "text": [
      "[Parallel(n_jobs=1)]: Using backend SequentialBackend with 1 concurrent workers.\n",
      "[Parallel(n_jobs=1)]: Done  12 out of  12 | elapsed:    0.1s finished\n"
     ]
    }
   ],
   "source": [
    "#C意图识别\n",
    "# Import necessary modules\n",
    "from rasa_nlu.training_data import load_data\n",
    "from rasa_nlu.config import RasaNLUModelConfig\n",
    "from rasa_nlu.model import Trainer\n",
    "from rasa_nlu import config\n",
    "\n",
    "# Create a trainer that uses this config\n",
    "trainer = Trainer(config.load(\"config_spacy.yml\"))\n",
    "\n",
    "# Load the training data\n",
    "training_data = load_data('xtc-rasa-fif.json')\n",
    "\n",
    "# Create an interpreter by training the model\n",
    "interpreter = trainer.train(training_data)\n",
    "\n",
    "responses = 'the price of {1} is {2}'\n",
    "\n",
    "def find_intent(message):\n",
    "    # Extract the entities\n",
    "    intent = interpreter.parse(message)['intent']['name']\n",
    "    return intent"
   ]
  },
  {
   "cell_type": "code",
   "execution_count": 9,
   "metadata": {},
   "outputs": [
    {
     "name": "stdout",
     "output_type": "stream",
     "text": [
      "30\n",
      "300\n"
     ]
    },
    {
     "name": "stderr",
     "output_type": "stream",
     "text": [
      "D:\\softs\\anaconda\\lib\\site-packages\\sklearn\\svm\\base.py:196: FutureWarning: The default value of gamma will change from 'auto' to 'scale' in version 0.22 to account better for unscaled features. Set gamma explicitly to 'auto' or 'scale' to avoid this warning.\n",
      "  \"avoid this warning.\", FutureWarning)\n"
     ]
    },
    {
     "name": "stdout",
     "output_type": "stream",
     "text": [
      "Predicted 162 correctly out of 201 test examples.\n"
     ]
    }
   ],
   "source": [
    "#D实体抽取\n",
    "import spacy\n",
    "import numpy as np\n",
    "sentences = [' i want to fly from boston at 838 am and arrive in denver at 1110 in the morning', \n",
    " ' what flights are available from pittsburgh to baltimore on thursday morning', \n",
    " ' what is the arrival time in san francisco for the 755 am flight leaving washington', \n",
    " ' cheapest airfare from tacoma to orlando', \n",
    " ' round trip fares from pittsburgh to philadelphia under 1000 dollars', \n",
    " ' i need a flight tomorrow from columbus to minneapolis', \n",
    " ' what kind of aircraft is used on a flight from cleveland to dallas', \n",
    " ' show me the flights from pittsburgh to los angeles on thursday', \n",
    " ' all flights from boston to washington', \n",
    " ' what kind of ground transportation is available in denver', \n",
    " ' show me the flights from dallas to san francisco', \n",
    " ' show me the flights from san diego to newark by way of houston', \n",
    " ' what is the cheapest flight from boston to bwi', \n",
    " ' all flights to baltimore after 6 pm', \n",
    " ' show me the first class fares from boston to denver', \n",
    " ' show me the ground transportation in denver', \n",
    " ' all flights from denver to pittsburgh leaving after 6 pm and before 7 pm', \n",
    " ' i need information on flights for tuesday leaving baltimore for dallas dallas to boston and boston to baltimore', \n",
    " ' please give me the flights from boston to pittsburgh on thursday of next week', \n",
    " ' i would like to fly from denver to pittsburgh on united airlines', \n",
    " ' show me the flights from san diego to newark', \n",
    " ' please list all first class flights on united from denver to baltimore', \n",
    " ' what kinds of planes are used by american airlines', \n",
    " \" i'd like to have some information on a ticket from denver to pittsburgh and atlanta\", \n",
    " \" i'd like to book a flight from atlanta to denver\", \n",
    " ' which airline serves denver pittsburgh and atlanta', \n",
    " \" show me all flights from boston to pittsburgh on wednesday of next week which leave boston after 2 o'clock pm\", \n",
    " ' atlanta ground transportation', ' i also need service from dallas to boston arriving by noon', \n",
    " ' show me the cheapest round trip fare from baltimore to dallas']\n",
    "\n",
    "\n",
    "# Load the spacy model: nlp, en_core_web_md\n",
    "nlp = spacy.load('en_core_web_md')\n",
    "\n",
    "# Calculate the length of sentences\n",
    "n_sentences = len(sentences)\n",
    "\n",
    "# Calculate the dimensionality of nlp\n",
    "embedding_dim = nlp.vocab.vectors_length\n",
    "\n",
    "print(n_sentences)\n",
    "print(embedding_dim)\n",
    "\n",
    "# Initialize the array with zeros: X\n",
    "X = np.zeros((n_sentences, embedding_dim))\n",
    "\n",
    "# Iterate over the sentences\n",
    "for idx, sentence in enumerate(sentences):\n",
    "    # Pass each each sentence to the nlp object to create a document\n",
    "    doc = nlp(sentence)\n",
    "    # Save the document's .vector attribute to the corresponding row in X\n",
    "    X[idx, :] = doc.vector\n",
    "\n",
    "    \n",
    "import pandas as pd\n",
    "X_train = pd.read_csv('SVM/X_train.csv')\n",
    "X_test = pd.read_csv('SVM/X_test.csv')\n",
    "y_train = pd.read_csv('SVM/y_train.csv')['label']\n",
    "y_test = pd.read_csv('SVM/y_test.csv')['label']\n",
    "\n",
    "\n",
    "# Import SVC\n",
    "from sklearn.svm import SVC\n",
    "\n",
    "# Create a support vector classifier\n",
    "clf = SVC()\n",
    "\n",
    "# Fit the classifier using the training data\n",
    "clf.fit(X_train,y_train)\n",
    "\n",
    "# Predict the labels of the test set\n",
    "y_pred = clf.predict(X_test)\n",
    "\n",
    "# Count the number of correct predictions\n",
    "n_correct = 0\n",
    "for i in range(len(y_test)):\n",
    "    if y_pred[i] == y_test[i]:\n",
    "        n_correct += 1\n",
    "        \n",
    "print(\"Predicted {0} correctly out of {1} test examples.\".format(n_correct, len(y_test)))\n",
    "\n",
    "\n",
    "include_entities = [ 'ORG']\n",
    "\n",
    "def find_company(message):\n",
    "    ents = dict.fromkeys(include_entities)\n",
    "    doc = nlp(message)\n",
    "    for ent in doc.ents:\n",
    "        if ent.label_ in include_entities:\n",
    "            # Save interesting entities\n",
    "            ents[ent.label_] = ent.text\n",
    "    return ents['ORG']"
   ]
  },
  {
   "cell_type": "code",
   "execution_count": 13,
   "metadata": {},
   "outputs": [],
   "source": [
    "#E查价钱\n",
    "from iexfinance.stocks import Stock\n",
    "\n",
    "def find_price(name):\n",
    "    stock_price = Stock(name)\n",
    "    appe=stock_price.get_price()\n",
    "    return appe"
   ]
  },
  {
   "cell_type": "code",
   "execution_count": 14,
   "metadata": {},
   "outputs": [],
   "source": [
    "#F查交易量\n",
    "from iexfinance.stocks import Stock\n",
    "\n",
    "def find_volume(name):\n",
    "    stock_price = Stock(name)\n",
    "    appe=stock_price.get_volume()\n",
    "    return appe"
   ]
  },
  {
   "cell_type": "code",
   "execution_count": null,
   "metadata": {},
   "outputs": [],
   "source": []
  }
 ],
 "metadata": {
  "kernelspec": {
   "display_name": "Python 3",
   "language": "python",
   "name": "python3"
  },
  "language_info": {
   "codemirror_mode": {
    "name": "ipython",
    "version": 3
   },
   "file_extension": ".py",
   "mimetype": "text/x-python",
   "name": "python",
   "nbconvert_exporter": "python",
   "pygments_lexer": "ipython3",
   "version": "3.7.1"
  }
 },
 "nbformat": 4,
 "nbformat_minor": 2
}
